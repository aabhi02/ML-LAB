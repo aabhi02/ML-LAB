{
 "cells": [
  {
   "cell_type": "markdown",
   "metadata": {},
   "source": [
    "Implement and demonstratetheFIND-Salgorithm for finding the most specific\n",
    "hypothesis based on a given set of training data samples. Read the training data from a\n",
    ".CSV file and show the output for test cases. Develop an interactive program by\n",
    "Compareing the result by implementing LIST THEN ELIMINATE algorithm."
   ]
  },
  {
   "cell_type": "code",
   "execution_count": 1,
   "metadata": {
    "executionInfo": {
     "elapsed": 5,
     "status": "ok",
     "timestamp": 1680000565455,
     "user": {
      "displayName": "Abhishek Gowda",
      "userId": "09680424887036355182"
     },
     "user_tz": -330
    },
    "id": "DqaRb9COyctc"
   },
   "outputs": [],
   "source": [
    "import pandas as pd\n",
    "import numpy as np"
   ]
  },
  {
   "cell_type": "code",
   "execution_count": 2,
   "metadata": {
    "executionInfo": {
     "elapsed": 55,
     "status": "ok",
     "timestamp": 1680000565914,
     "user": {
      "displayName": "Abhishek Gowda",
      "userId": "09680424887036355182"
     },
     "user_tz": -330
    },
    "id": "1S8pKQkUycto"
   },
   "outputs": [],
   "source": [
    "data=pd.read_csv('ENJOYSPORT.csv')"
   ]
  },
  {
   "cell_type": "code",
   "execution_count": 3,
   "metadata": {
    "colab": {
     "base_uri": "https://localhost:8080/"
    },
    "executionInfo": {
     "elapsed": 55,
     "status": "ok",
     "timestamp": 1680000565915,
     "user": {
      "displayName": "Abhishek Gowda",
      "userId": "09680424887036355182"
     },
     "user_tz": -330
    },
    "id": "ewRD7oDJyctq",
    "outputId": "7193dedd-9f64-46da-9712-acefbe894b1c"
   },
   "outputs": [
    {
     "name": "stdout",
     "output_type": "stream",
     "text": [
      "     Sky AirTemp Humidity    Wind Water Forecast  EnjoySport\n",
      "0  Sunny    Warm   Normal  Strong  Warm     Same           1\n",
      "1  Sunny    Warm     High  Strong  Warm     Same           1\n",
      "2  Rainy    Cold     High  Strong  Warm   Change           0\n",
      "3  Sunny    Warm     High  Strong  Cool   Change           1\n"
     ]
    }
   ],
   "source": [
    "print(data)"
   ]
  },
  {
   "cell_type": "code",
   "execution_count": 4,
   "metadata": {
    "executionInfo": {
     "elapsed": 53,
     "status": "ok",
     "timestamp": 1680000565917,
     "user": {
      "displayName": "Abhishek Gowda",
      "userId": "09680424887036355182"
     },
     "user_tz": -330
    },
    "id": "DZ50X41fyctu"
   },
   "outputs": [],
   "source": [
    "x=np.array(data)[:,:-1]"
   ]
  },
  {
   "cell_type": "code",
   "execution_count": 5,
   "metadata": {
    "executionInfo": {
     "elapsed": 53,
     "status": "ok",
     "timestamp": 1680000565918,
     "user": {
      "displayName": "Abhishek Gowda",
      "userId": "09680424887036355182"
     },
     "user_tz": -330
    },
    "id": "e_h6hgDRyctv"
   },
   "outputs": [],
   "source": [
    "y=np.array(data['EnjoySport'])"
   ]
  },
  {
   "cell_type": "markdown",
   "metadata": {},
   "source": [
    "<h3>FindS algorithm</h3>\n",
    "\n",
    "<p>for each example which is positive<br>\n",
    "    - if the attribute if different when compared with next example change it to \"?\"<br>\n",
    "    - else keep it same"
   ]
  },
  {
   "cell_type": "code",
   "execution_count": 6,
   "metadata": {
    "executionInfo": {
     "elapsed": 54,
     "status": "ok",
     "timestamp": 1680000565920,
     "user": {
      "displayName": "Abhishek Gowda",
      "userId": "09680424887036355182"
     },
     "user_tz": -330
    },
    "id": "4mol4C27yctx"
   },
   "outputs": [],
   "source": [
    "def find_s(data, label):\n",
    "    ans=[0]*6\n",
    "    \n",
    "    for i in range(len(label)):\n",
    "        if label[i]==1:\n",
    "            for j in range(len(ans)):\n",
    "                    ans[j]=data[i][j]\n",
    "            break\n",
    "        \n",
    "    for i in range(len(data)):\n",
    "        if label[i]==1:\n",
    "            for j in range(len(ans)):\n",
    "                if ans[j]!=data[i][j]:\n",
    "                    ans[j]='?'\n",
    "    \n",
    "    return ans"
   ]
  },
  {
   "cell_type": "code",
   "execution_count": 7,
   "metadata": {
    "executionInfo": {
     "elapsed": 54,
     "status": "ok",
     "timestamp": 1680000565921,
     "user": {
      "displayName": "Abhishek Gowda",
      "userId": "09680424887036355182"
     },
     "user_tz": -330
    },
    "id": "x2K98DfMyctz"
   },
   "outputs": [
    {
     "name": "stdout",
     "output_type": "stream",
     "text": [
      "['Sunny', 'Warm', '?', 'Strong', '?', '?']\n"
     ]
    }
   ],
   "source": [
    "print(find_s(x, y))"
   ]
  }
 ],
 "metadata": {
  "accelerator": "GPU",
  "colab": {
   "provenance": []
  },
  "gpuClass": "standard",
  "kernelspec": {
   "display_name": "Python 3 (ipykernel)",
   "language": "python",
   "name": "python3"
  },
  "language_info": {
   "codemirror_mode": {
    "name": "ipython",
    "version": 3
   },
   "file_extension": ".py",
   "mimetype": "text/x-python",
   "name": "python",
   "nbconvert_exporter": "python",
   "pygments_lexer": "ipython3",
   "version": "3.10.7"
  }
 },
 "nbformat": 4,
 "nbformat_minor": 1
}
