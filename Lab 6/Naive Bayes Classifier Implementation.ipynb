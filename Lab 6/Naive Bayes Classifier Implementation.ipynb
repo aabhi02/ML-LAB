{
 "cells": [
  {
   "cell_type": "code",
   "execution_count": null,
   "id": "dc7ddba5",
   "metadata": {},
   "outputs": [],
   "source": [
    "import numpy as np\n",
    "import pandas as pd"
   ]
  },
  {
   "cell_type": "code",
   "execution_count": null,
   "id": "7a2e84a3",
   "metadata": {},
   "outputs": [],
   "source": [
    "# Loads data\n",
    "data = pd.read_csv(\"play_tennis.csv\")"
   ]
  },
  {
   "cell_type": "code",
   "execution_count": null,
   "id": "bea16adc",
   "metadata": {},
   "outputs": [],
   "source": [
    "data"
   ]
  },
  {
   "cell_type": "code",
   "execution_count": null,
   "id": "ecaf16f9",
   "metadata": {},
   "outputs": [],
   "source": [
    "# Removes the column \"Day\" as it is not relevant to the model\n",
    "data.drop([\"day\"], axis=1, inplace=True)"
   ]
  },
  {
   "cell_type": "code",
   "execution_count": null,
   "id": "8386aa61",
   "metadata": {},
   "outputs": [],
   "source": [
    "data"
   ]
  },
  {
   "cell_type": "code",
   "execution_count": null,
   "id": "6bd6017b",
   "metadata": {},
   "outputs": [],
   "source": [
    "def naive_bayes_predict(data, target_name, test_instance):\n",
    "    \n",
    "    \n",
    "    # Counts the unique values in the target\n",
    "    target_value_counts = data[target_name].value_counts().to_dict()\n",
    "    print(\"Target value counts\")\n",
    "    print(target_value_counts)\n",
    "    \n",
    "    # Calculates the frequency with which each target value occurs in the data\n",
    "   \n",
    "    prob_target_values = (data[#insert code here ].value_counts()/data.shape[0]).to_dict()\n",
    "    \n",
    "    print(\"Proba_target_values\")\n",
    "    print(prob_target_values)\n",
    "    \n",
    "    # Initialize dictionary to store output probabilities against all (unique) target values\n",
    "    predicted_target_values = {}\n",
    "\n",
    "    # Iterate through each of the target value to calculate the probability against it\n",
    "    for target, value_count in target_value_counts.items():\n",
    "        attrib_prob_given_target_prob = 1\n",
    "        \n",
    "        \n",
    "        # Filters the data set against target value\n",
    "        data_subset = #insert code here\n",
    "        \n",
    "        # Calculates product of probabilities for each attribute\n",
    "        # in test instance given probability of the target\n",
    "        for attrib, value in test_instance.items():\n",
    "            attrib_value_conditional_prob = data_subset[data_subset[attrib] == value].shape[0] / data_subset.shape[0]\n",
    "            attrib_prob_given_target_prob *= attrib_value_conditional_prob\n",
    "        \n",
    "        # Calculates probailities of test instance attributes for a given target probability,\n",
    "        # and stores it in a dictionary for later reference\n",
    "        target_value_prob = prob_target_values[target] * attrib_prob_given_target_prob       \n",
    "        predicted_target_values[target] = target_value_prob\n",
    "        \n",
    "    return predicted_target_values"
   ]
  },
  {
   "cell_type": "code",
   "execution_count": null,
   "id": "e77109b3",
   "metadata": {},
   "outputs": [],
   "source": [
    "\n",
    "test_instance = {\"outlook\": \"Overcast\", \"temp\": \"Cool\", \"humidity\": \"Normal\", \"wind\": \"Strong\"}"
   ]
  },
  {
   "cell_type": "code",
   "execution_count": null,
   "id": "11d36e88",
   "metadata": {},
   "outputs": [],
   "source": [
    "\n",
    "prediction = naive_bayes_predict(#insert code here)\n",
    "print(\"Prediction is:\",prediction)"
   ]
  }
 ],
 "metadata": {
  "kernelspec": {
   "display_name": "Python 3 (ipykernel)",
   "language": "python",
   "name": "python3"
  },
  "language_info": {
   "codemirror_mode": {
    "name": "ipython",
    "version": 3
   },
   "file_extension": ".py",
   "mimetype": "text/x-python",
   "name": "python",
   "nbconvert_exporter": "python",
   "pygments_lexer": "ipython3",
   "version": "3.9.7"
  }
 },
 "nbformat": 4,
 "nbformat_minor": 5
}
