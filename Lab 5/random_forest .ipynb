{
 "cells": [
  {
   "cell_type": "code",
   "execution_count": 1,
   "id": "2439d1a8",
   "metadata": {},
   "outputs": [],
   "source": [
    "import numpy as np\n",
    "import pandas as pd"
   ]
  },
  {
   "cell_type": "code",
   "execution_count": 2,
   "id": "d214a69d",
   "metadata": {},
   "outputs": [],
   "source": [
    "data_set = pd.read_csv('breast-cancer-wisconsin.csv',na_values=['?'])"
   ]
  },
  {
   "cell_type": "code",
   "execution_count": 3,
   "id": "91599086",
   "metadata": {},
   "outputs": [
    {
     "data": {
      "text/html": [
       "<div>\n",
       "<style scoped>\n",
       "    .dataframe tbody tr th:only-of-type {\n",
       "        vertical-align: middle;\n",
       "    }\n",
       "\n",
       "    .dataframe tbody tr th {\n",
       "        vertical-align: top;\n",
       "    }\n",
       "\n",
       "    .dataframe thead th {\n",
       "        text-align: right;\n",
       "    }\n",
       "</style>\n",
       "<table border=\"1\" class=\"dataframe\">\n",
       "  <thead>\n",
       "    <tr style=\"text-align: right;\">\n",
       "      <th></th>\n",
       "      <th>id</th>\n",
       "      <th>clumpthickness</th>\n",
       "      <th>uniformcellsize</th>\n",
       "      <th>uniformcellshape</th>\n",
       "      <th>margadhesion</th>\n",
       "      <th>epithelial</th>\n",
       "      <th>barenuclei</th>\n",
       "      <th>blandchromatin</th>\n",
       "      <th>normalnucleoli</th>\n",
       "      <th>mitoses</th>\n",
       "      <th>benormal</th>\n",
       "    </tr>\n",
       "  </thead>\n",
       "  <tbody>\n",
       "    <tr>\n",
       "      <th>0</th>\n",
       "      <td>1000025</td>\n",
       "      <td>5</td>\n",
       "      <td>1</td>\n",
       "      <td>1</td>\n",
       "      <td>1</td>\n",
       "      <td>2</td>\n",
       "      <td>1.0</td>\n",
       "      <td>3</td>\n",
       "      <td>1</td>\n",
       "      <td>1</td>\n",
       "      <td>2</td>\n",
       "    </tr>\n",
       "    <tr>\n",
       "      <th>1</th>\n",
       "      <td>1002945</td>\n",
       "      <td>5</td>\n",
       "      <td>4</td>\n",
       "      <td>4</td>\n",
       "      <td>5</td>\n",
       "      <td>7</td>\n",
       "      <td>10.0</td>\n",
       "      <td>3</td>\n",
       "      <td>2</td>\n",
       "      <td>1</td>\n",
       "      <td>2</td>\n",
       "    </tr>\n",
       "    <tr>\n",
       "      <th>2</th>\n",
       "      <td>1015425</td>\n",
       "      <td>3</td>\n",
       "      <td>1</td>\n",
       "      <td>1</td>\n",
       "      <td>1</td>\n",
       "      <td>2</td>\n",
       "      <td>2.0</td>\n",
       "      <td>3</td>\n",
       "      <td>1</td>\n",
       "      <td>1</td>\n",
       "      <td>2</td>\n",
       "    </tr>\n",
       "    <tr>\n",
       "      <th>3</th>\n",
       "      <td>1016277</td>\n",
       "      <td>6</td>\n",
       "      <td>8</td>\n",
       "      <td>8</td>\n",
       "      <td>1</td>\n",
       "      <td>3</td>\n",
       "      <td>4.0</td>\n",
       "      <td>3</td>\n",
       "      <td>7</td>\n",
       "      <td>1</td>\n",
       "      <td>2</td>\n",
       "    </tr>\n",
       "    <tr>\n",
       "      <th>4</th>\n",
       "      <td>1017023</td>\n",
       "      <td>4</td>\n",
       "      <td>1</td>\n",
       "      <td>1</td>\n",
       "      <td>3</td>\n",
       "      <td>2</td>\n",
       "      <td>1.0</td>\n",
       "      <td>3</td>\n",
       "      <td>1</td>\n",
       "      <td>1</td>\n",
       "      <td>2</td>\n",
       "    </tr>\n",
       "  </tbody>\n",
       "</table>\n",
       "</div>"
      ],
      "text/plain": [
       "        id  clumpthickness  uniformcellsize  uniformcellshape  margadhesion  \\\n",
       "0  1000025               5                1                 1             1   \n",
       "1  1002945               5                4                 4             5   \n",
       "2  1015425               3                1                 1             1   \n",
       "3  1016277               6                8                 8             1   \n",
       "4  1017023               4                1                 1             3   \n",
       "\n",
       "   epithelial  barenuclei  blandchromatin  normalnucleoli  mitoses  benormal  \n",
       "0           2         1.0               3               1        1         2  \n",
       "1           7        10.0               3               2        1         2  \n",
       "2           2         2.0               3               1        1         2  \n",
       "3           3         4.0               3               7        1         2  \n",
       "4           2         1.0               3               1        1         2  "
      ]
     },
     "execution_count": 3,
     "metadata": {},
     "output_type": "execute_result"
    }
   ],
   "source": [
    "data_set.head()"
   ]
  },
  {
   "attachments": {},
   "cell_type": "markdown",
   "id": "3c5a3c4c",
   "metadata": {},
   "source": [
    "class\n",
    "\n",
    "2---benign\n",
    "4---malignant\n"
   ]
  },
  {
   "attachments": {},
   "cell_type": "markdown",
   "id": "18556ddd",
   "metadata": {},
   "source": [
    "# DATA CLEANING\n",
    "\n",
    "row deletion \n",
    "column deletion\n"
   ]
  },
  {
   "cell_type": "code",
   "execution_count": 4,
   "id": "651069b9",
   "metadata": {},
   "outputs": [],
   "source": [
    "# we will search and delete the rows whose class is classified other than 2 or 4\n",
    "\n",
    "\n",
    "# there is data cleaning needed to this data set\n",
    "\n",
    "# idhe maam\n",
    "\n",
    "# there is ? in a column so set this value as a null\n",
    "\n",
    "#data_set = data_set.replace({'?':np.nan})"
   ]
  },
  {
   "cell_type": "code",
   "execution_count": 5,
   "id": "6b3a2048",
   "metadata": {},
   "outputs": [
    {
     "data": {
      "text/plain": [
       "16"
      ]
     },
     "execution_count": 5,
     "metadata": {},
     "output_type": "execute_result"
    }
   ],
   "source": [
    "# count the number of rows with NaN values in column 'B'\n",
    "num_rows_with_nan = data_set['barenuclei'].isnull().sum()\n",
    "num_rows_with_nan"
   ]
  },
  {
   "cell_type": "code",
   "execution_count": 6,
   "id": "c3aacd9c",
   "metadata": {},
   "outputs": [
    {
     "data": {
      "text/plain": [
       "3.5446559297218156"
      ]
     },
     "execution_count": 6,
     "metadata": {},
     "output_type": "execute_result"
    }
   ],
   "source": [
    "#there are 16 rows with a null value in bare_nuclie column\n",
    "# ill replace null value with the mean value of that column\n",
    "\n",
    "mean_val = data_set['barenuclei'].mean()\n",
    "mean_val"
   ]
  },
  {
   "cell_type": "code",
   "execution_count": 7,
   "id": "038f23b9",
   "metadata": {},
   "outputs": [],
   "source": [
    "data_set[\"barenuclei\"] = data_set.barenuclei.fillna(int(mean_val))"
   ]
  },
  {
   "cell_type": "code",
   "execution_count": 8,
   "id": "06c50211",
   "metadata": {},
   "outputs": [
    {
     "data": {
      "text/plain": [
       "id                  0\n",
       "clumpthickness      0\n",
       "uniformcellsize     0\n",
       "uniformcellshape    0\n",
       "margadhesion        0\n",
       "epithelial          0\n",
       "barenuclei          0\n",
       "blandchromatin      0\n",
       "normalnucleoli      0\n",
       "mitoses             0\n",
       "benormal            0\n",
       "dtype: int64"
      ]
     },
     "execution_count": 8,
     "metadata": {},
     "output_type": "execute_result"
    }
   ],
   "source": [
    "data_set.isnull().sum()"
   ]
  },
  {
   "cell_type": "code",
   "execution_count": 9,
   "id": "b8e256c2",
   "metadata": {},
   "outputs": [],
   "source": [
    "# split the data into features and target\n",
    "\n",
    "features = data_set.iloc[:,:-1].values\n",
    "target = data_set.iloc[:,-1:].values\n"
   ]
  },
  {
   "attachments": {},
   "cell_type": "markdown",
   "id": "24ba93f7",
   "metadata": {},
   "source": [
    "Split the data into training and testing sets"
   ]
  },
  {
   "cell_type": "code",
   "execution_count": 10,
   "id": "7c77489b",
   "metadata": {},
   "outputs": [],
   "source": [
    "from sklearn.model_selection import train_test_split"
   ]
  },
  {
   "cell_type": "code",
   "execution_count": 11,
   "id": "7055e000",
   "metadata": {},
   "outputs": [],
   "source": [
    "# Split the data into training and testing sets\n",
    "x_train, x_test, y_train, y_test = train_test_split(features, target, test_size=0.3, random_state=42)"
   ]
  },
  {
   "cell_type": "code",
   "execution_count": 12,
   "id": "3f2b4ed0",
   "metadata": {},
   "outputs": [
    {
     "name": "stdout",
     "output_type": "stream",
     "text": [
      "489 489\n"
     ]
    }
   ],
   "source": [
    "print(len(x_train),len(y_train))"
   ]
  },
  {
   "cell_type": "code",
   "execution_count": 13,
   "id": "389fed53",
   "metadata": {
    "scrolled": true
   },
   "outputs": [
    {
     "name": "stdout",
     "output_type": "stream",
     "text": [
      "210 210\n"
     ]
    }
   ],
   "source": [
    "print(len(x_test),len(y_test))"
   ]
  },
  {
   "attachments": {},
   "cell_type": "markdown",
   "id": "d0604940",
   "metadata": {},
   "source": [
    "Data preprocessing\n"
   ]
  },
  {
   "cell_type": "code",
   "execution_count": 14,
   "id": "b8ba79a0",
   "metadata": {},
   "outputs": [],
   "source": [
    "from sklearn.preprocessing import StandardScaler"
   ]
  },
  {
   "cell_type": "code",
   "execution_count": 15,
   "id": "23111163",
   "metadata": {},
   "outputs": [],
   "source": [
    "# Perform feature scaling and normalization\n",
    "sc = StandardScaler()\n",
    "X_train = sc.fit_transform(x_train)\n",
    "X_test = sc.transform(x_test)"
   ]
  },
  {
   "attachments": {},
   "cell_type": "markdown",
   "id": "eac65790",
   "metadata": {},
   "source": [
    "# selecting the best hyperparameter using randomizzed search"
   ]
  },
  {
   "cell_type": "code",
   "execution_count": 16,
   "id": "65fc65d6",
   "metadata": {},
   "outputs": [],
   "source": [
    "from sklearn.model_selection import RandomizedSearchCV\n",
    "from sklearn.ensemble import RandomForestClassifier\n",
    "from scipy.stats import randint as sp_randint"
   ]
  },
  {
   "cell_type": "code",
   "execution_count": 17,
   "id": "5cdc426d",
   "metadata": {},
   "outputs": [],
   "source": [
    "rf_classifier = RandomForestClassifier()"
   ]
  },
  {
   "cell_type": "code",
   "execution_count": 18,
   "id": "e220562e",
   "metadata": {},
   "outputs": [],
   "source": [
    "# Define the hyperparameter grid\n",
    "param_dist = {'n_estimators': sp_randint(10, 100),\n",
    "              'max_depth': sp_randint(1, 50),\n",
    "              'max_features': ['sqrt', 'log2', 6],\n",
    "              'min_samples_split': sp_randint(2, 20),\n",
    "              'min_samples_leaf': sp_randint(1, 10),\n",
    "              'criterion': ['gini', 'entropy']}\n",
    "\n",
    "# Perform a randomized search with 5-fold cross-validation\n",
    "random_search = RandomizedSearchCV(rf_classifier, param_distributions=param_dist,\n",
    "                                   n_iter=100, cv=5, random_state=42, n_jobs=-1)"
   ]
  },
  {
   "cell_type": "code",
   "execution_count": 19,
   "id": "da17c660",
   "metadata": {},
   "outputs": [],
   "source": [
    "y_train=y_train.reshape(-1)"
   ]
  },
  {
   "cell_type": "code",
   "execution_count": 20,
   "id": "e7a7fcca",
   "metadata": {
    "scrolled": false
   },
   "outputs": [
    {
     "data": {
      "text/plain": [
       "RandomizedSearchCV(cv=5, estimator=RandomForestClassifier(), n_iter=100,\n",
       "                   n_jobs=-1,\n",
       "                   param_distributions={'criterion': ['gini', 'entropy'],\n",
       "                                        'max_depth': <scipy.stats._distn_infrastructure.rv_discrete_frozen object at 0x00000278FF822D60>,\n",
       "                                        'max_features': ['sqrt', 'log2', 6],\n",
       "                                        'min_samples_leaf': <scipy.stats._distn_infrastructure.rv_discrete_frozen object at 0x00000278FCB15DC0>,\n",
       "                                        'min_samples_split': <scipy.stats._distn_infrastructure.rv_discrete_frozen object at 0x00000278EBA8BF10>,\n",
       "                                        'n_estimators': <scipy.stats._distn_infrastructure.rv_discrete_frozen object at 0x00000278FFD4D580>},\n",
       "                   random_state=42)"
      ]
     },
     "execution_count": 20,
     "metadata": {},
     "output_type": "execute_result"
    }
   ],
   "source": [
    "# Fit the randomized search object to the data\n",
    "random_search.fit(X_train, y_train)"
   ]
  },
  {
   "cell_type": "code",
   "execution_count": 21,
   "id": "ea33677c",
   "metadata": {},
   "outputs": [
    {
     "name": "stdout",
     "output_type": "stream",
     "text": [
      "Best hyperparameters: {'criterion': 'gini', 'max_depth': 39, 'max_features': 'log2', 'min_samples_leaf': 4, 'min_samples_split': 15, 'n_estimators': 18}\n",
      "Best accuracy: 0.9672417420576478\n"
     ]
    }
   ],
   "source": [
    "# Print the best hyperparameters and the corresponding accuracy\n",
    "print('Best hyperparameters:', random_search.best_params_)\n",
    "print('Best accuracy:', random_search.best_score_)"
   ]
  },
  {
   "attachments": {},
   "cell_type": "markdown",
   "id": "710c4408",
   "metadata": {},
   "source": [
    "use the above generated hyperparameter for training "
   ]
  },
  {
   "cell_type": "code",
   "execution_count": 22,
   "id": "326a61c6",
   "metadata": {},
   "outputs": [
    {
     "data": {
      "text/plain": [
       "RandomForestClassifier(max_depth=49, max_features='log2', min_samples_leaf=4,\n",
       "                       min_samples_split=17, n_estimators=98)"
      ]
     },
     "execution_count": 22,
     "metadata": {},
     "output_type": "execute_result"
    }
   ],
   "source": [
    "# Train the random forest model\n",
    "rf_classifier = RandomForestClassifier(n_estimators=98, max_depth=49, max_features='log2',criterion='gini',min_samples_leaf=4,min_samples_split=17)\n",
    "rf_classifier.fit(X_train, y_train)\n"
   ]
  },
  {
   "cell_type": "code",
   "execution_count": 23,
   "id": "3fe40dd2",
   "metadata": {},
   "outputs": [],
   "source": [
    "from sklearn.metrics import confusion_matrix"
   ]
  },
  {
   "cell_type": "code",
   "execution_count": 24,
   "id": "8fa84c93",
   "metadata": {},
   "outputs": [],
   "source": [
    "from sklearn.metrics import accuracy_score, precision_score, recall_score, f1_score"
   ]
  },
  {
   "cell_type": "code",
   "execution_count": 25,
   "id": "993ceb53",
   "metadata": {},
   "outputs": [
    {
     "data": {
      "text/plain": [
       "0.9714285714285714"
      ]
     },
     "execution_count": 25,
     "metadata": {},
     "output_type": "execute_result"
    }
   ],
   "source": [
    "# Evaluate the model\n",
    "y_pred = rf_classifier.predict(X_test)\n",
    "accuracy = accuracy_score(y_test, y_pred)\n",
    "accuracy"
   ]
  }
 ],
 "metadata": {
  "kernelspec": {
   "display_name": "Python 3 (ipykernel)",
   "language": "python",
   "name": "python3"
  },
  "language_info": {
   "codemirror_mode": {
    "name": "ipython",
    "version": 3
   },
   "file_extension": ".py",
   "mimetype": "text/x-python",
   "name": "python",
   "nbconvert_exporter": "python",
   "pygments_lexer": "ipython3",
   "version": "3.9.0"
  }
 },
 "nbformat": 4,
 "nbformat_minor": 5
}
