{
 "cells": [
  {
   "cell_type": "code",
   "execution_count": 1,
   "id": "cde2d504",
   "metadata": {},
   "outputs": [],
   "source": [
    "import numpy as np\n",
    "import pandas as pd"
   ]
  },
  {
   "cell_type": "code",
   "execution_count": 2,
   "id": "33e52247",
   "metadata": {},
   "outputs": [
    {
     "data": {
      "text/html": [
       "<div>\n",
       "<style scoped>\n",
       "    .dataframe tbody tr th:only-of-type {\n",
       "        vertical-align: middle;\n",
       "    }\n",
       "\n",
       "    .dataframe tbody tr th {\n",
       "        vertical-align: top;\n",
       "    }\n",
       "\n",
       "    .dataframe thead th {\n",
       "        text-align: right;\n",
       "    }\n",
       "</style>\n",
       "<table border=\"1\" class=\"dataframe\">\n",
       "  <thead>\n",
       "    <tr style=\"text-align: right;\">\n",
       "      <th></th>\n",
       "      <th>Sky</th>\n",
       "      <th>AirTemp</th>\n",
       "      <th>Humidity</th>\n",
       "      <th>Wind</th>\n",
       "      <th>Water</th>\n",
       "      <th>Forecast</th>\n",
       "      <th>EnjoySport</th>\n",
       "    </tr>\n",
       "  </thead>\n",
       "  <tbody>\n",
       "    <tr>\n",
       "      <th>0</th>\n",
       "      <td>Sunny</td>\n",
       "      <td>Warm</td>\n",
       "      <td>Normal</td>\n",
       "      <td>Strong</td>\n",
       "      <td>Warm</td>\n",
       "      <td>Same</td>\n",
       "      <td>1</td>\n",
       "    </tr>\n",
       "    <tr>\n",
       "      <th>1</th>\n",
       "      <td>Sunny</td>\n",
       "      <td>Warm</td>\n",
       "      <td>High</td>\n",
       "      <td>Strong</td>\n",
       "      <td>Warm</td>\n",
       "      <td>Same</td>\n",
       "      <td>1</td>\n",
       "    </tr>\n",
       "    <tr>\n",
       "      <th>2</th>\n",
       "      <td>Rainy</td>\n",
       "      <td>Cold</td>\n",
       "      <td>High</td>\n",
       "      <td>Strong</td>\n",
       "      <td>Warm</td>\n",
       "      <td>Change</td>\n",
       "      <td>0</td>\n",
       "    </tr>\n",
       "    <tr>\n",
       "      <th>3</th>\n",
       "      <td>Sunny</td>\n",
       "      <td>Warm</td>\n",
       "      <td>High</td>\n",
       "      <td>Strong</td>\n",
       "      <td>Cool</td>\n",
       "      <td>Change</td>\n",
       "      <td>1</td>\n",
       "    </tr>\n",
       "  </tbody>\n",
       "</table>\n",
       "</div>"
      ],
      "text/plain": [
       "     Sky AirTemp Humidity    Wind Water Forecast  EnjoySport\n",
       "0  Sunny    Warm   Normal  Strong  Warm     Same           1\n",
       "1  Sunny    Warm     High  Strong  Warm     Same           1\n",
       "2  Rainy    Cold     High  Strong  Warm   Change           0\n",
       "3  Sunny    Warm     High  Strong  Cool   Change           1"
      ]
     },
     "execution_count": 2,
     "metadata": {},
     "output_type": "execute_result"
    }
   ],
   "source": [
    "data=pd.read_csv('ENJOYSPORT.csv')\n",
    "data"
   ]
  },
  {
   "cell_type": "code",
   "execution_count": 6,
   "id": "6fc7cec7",
   "metadata": {},
   "outputs": [
    {
     "data": {
      "text/plain": [
       "array([['Sunny', 'Warm', 'Normal', 'Strong', 'Warm', 'Same'],\n",
       "       ['Sunny', 'Warm', 'High', 'Strong', 'Warm', 'Same'],\n",
       "       ['Rainy', 'Cold', 'High', 'Strong', 'Warm', 'Change'],\n",
       "       ['Sunny', 'Warm', 'High', 'Strong', 'Cool', 'Change']],\n",
       "      dtype=object)"
      ]
     },
     "execution_count": 6,
     "metadata": {},
     "output_type": "execute_result"
    }
   ],
   "source": [
    "features=np.array(data.drop('EnjoySport', axis=1))\n",
    "features"
   ]
  },
  {
   "cell_type": "code",
   "execution_count": 7,
   "id": "a50524a9",
   "metadata": {},
   "outputs": [
    {
     "data": {
      "text/plain": [
       "array([1, 1, 0, 1], dtype=int64)"
      ]
     },
     "execution_count": 7,
     "metadata": {},
     "output_type": "execute_result"
    }
   ],
   "source": [
    "label=np.array(data['EnjoySport'])\n",
    "label"
   ]
  },
  {
   "cell_type": "markdown",
   "id": "fd931c23",
   "metadata": {},
   "source": [
    "## Candidate Elimination Algorithm\n",
    "\n",
    "\n",
    "change s if target is 1-----\n",
    "change g if targer is 0"
   ]
  },
  {
   "cell_type": "code",
   "execution_count": 10,
   "id": "44e5f93d",
   "metadata": {},
   "outputs": [
    {
     "data": {
      "text/plain": [
       "[['?', '?', '?', '?', '?', '?'],\n",
       " ['?', '?', '?', '?', '?', '?'],\n",
       " ['?', '?', '?', '?', '?', '?'],\n",
       " ['?', '?', '?', '?', '?', '?'],\n",
       " ['?', '?', '?', '?', '?', '?'],\n",
       " ['?', '?', '?', '?', '?', '?']]"
      ]
     },
     "execution_count": 10,
     "metadata": {},
     "output_type": "execute_result"
    }
   ],
   "source": [
    "specific=[]\n",
    "general=[['?']*6]*6\n",
    "for i in range(len(label)):\n",
    "    if i==1:\n",
    "        specific=features[i]\n",
    "        break\n",
    "general"
   ]
  },
  {
   "cell_type": "code",
   "execution_count": 11,
   "id": "cbad0879",
   "metadata": {},
   "outputs": [
    {
     "name": "stdout",
     "output_type": "stream",
     "text": [
      "[{'Rainy', 'Sunny'}, {'Cold', 'Warm'}, {'High', 'Normal'}, {'Strong'}, {'Warm', 'Cool'}, {'Same', 'Change'}]\n"
     ]
    }
   ],
   "source": [
    "set_att=[set(data['Sky']), set(data['AirTemp']), set(data['Humidity']), set(data['Wind']), set(data['Water']),\n",
    "         set(data['Forecast'])]\n",
    "print(set_att)\n",
    "def ret_negate_att(i, j):\n",
    "    if len(set_att[i])!=1:\n",
    "        if set_att[i][0]==features[i][j]:\n",
    "            return set_att[i][1]\n",
    "        else:\n",
    "            return set_att[i][0]\n",
    "    return set_att[i][0]"
   ]
  },
  {
   "cell_type": "code",
   "execution_count": null,
   "id": "74969f8f",
   "metadata": {},
   "outputs": [],
   "source": [
    "def is_consistant(general, features):\n",
    "    for i in range(len(general)):\n",
    "        if general[i]!='?':\n",
    "            if general[i]!=features[i]:\n",
    "                return False\n",
    "    return True"
   ]
  },
  {
   "cell_type": "code",
   "execution_count": null,
   "id": "339d109b",
   "metadata": {},
   "outputs": [],
   "source": [
    "def gen_per():\n",
    "    "
   ]
  },
  {
   "cell_type": "code",
   "execution_count": 16,
   "id": "be633a54",
   "metadata": {},
   "outputs": [],
   "source": [
    "def candidate_elimination():\n",
    "    \n",
    "    for i in range(len(label)):\n",
    "        if lable[i]==0:\n",
    "            for j in range(len(specific)):\n",
    "                if specific[j]==feature[i][j]:\n",
    "                    specific[i]='?'\n",
    "            \n",
    "            for i in range()\n",
    "            \n",
    "                  \n",
    "        if label[i]==1:\n",
    "            for j in range(len(general)):\n",
    "                if not is_consistant(general[j], features[j]):\n",
    "                    general.pop(j)\n",
    "            \n",
    "            for k in range(len(specific)):\n",
    "                if specific[k]!='?':\n",
    "                    if specific[k]!=features[i][k]\n",
    "\n",
    "    \n",
    "    return specific"
   ]
  }
 ],
 "metadata": {
  "kernelspec": {
   "display_name": "Python 3 (ipykernel)",
   "language": "python",
   "name": "python3"
  },
  "language_info": {
   "codemirror_mode": {
    "name": "ipython",
    "version": 3
   },
   "file_extension": ".py",
   "mimetype": "text/x-python",
   "name": "python",
   "nbconvert_exporter": "python",
   "pygments_lexer": "ipython3",
   "version": "3.10.7"
  }
 },
 "nbformat": 4,
 "nbformat_minor": 5
}
