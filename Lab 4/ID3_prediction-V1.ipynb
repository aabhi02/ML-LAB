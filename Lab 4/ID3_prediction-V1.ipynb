{
 "cells": [
  {
   "cell_type": "code",
   "execution_count": 1,
   "metadata": {
    "scrolled": true
   },
   "outputs": [],
   "source": [
    "import numpy as np\n",
    "from math import log2\n",
    "\n",
    "def calculate_entropy(labels):\n",
    "    # Count the occurrences of each label\n",
    "    label_counts = np.unique(labels, return_counts=True)[1]\n",
    "\n",
    "    # Calculate the probabilities of each label\n",
    "    probabilities = label_counts / len(labels)\n",
    "\n",
    "    # Calculate the entropy\n",
    "    entropy = -np.sum(probabilities * np.log2(probabilities))\n",
    "    return entropy\n",
    "\n",
    "def calculate_information_gain(examples, attribute_index, labels):\n",
    "    # Get the unique values of the attribute\n",
    "    attribute_values = np.unique(examples[:, attribute_index])\n",
    "\n",
    "    # Calculate the entropy of the parent node\n",
    "    parent_entropy = calculate_entropy(labels)\n",
    "\n",
    "    # Calculate the weighted average entropy of the child nodes\n",
    "    weighted_average_entropy = 0.0\n",
    "    for value in attribute_values:\n",
    "        # Get the indices of examples with the current attribute value\n",
    "        indices = np.where(examples[:, attribute_index] == value)[0]\n",
    "\n",
    "        # Get the labels of the examples with the current attribute value\n",
    "        subset_labels = labels[indices]\n",
    "\n",
    "        # Calculate the entropy of the child node\n",
    "        entropy = calculate_entropy(subset_labels)\n",
    "\n",
    "        # Calculate the weight of the child node\n",
    "        weight = len(indices) / len(labels)\n",
    "\n",
    "        # Update the weighted average entropy\n",
    "        weighted_average_entropy += weight * entropy\n",
    "\n",
    "    # Calculate the information gain\n",
    "    information_gain = parent_entropy - weighted_average_entropy\n",
    "\n",
    "    return information_gain\n",
    "\n",
    "def choose_best_attribute(examples, attributes, labels):\n",
    "    # Calculate the information gain for each attribute\n",
    "    information_gains = [calculate_information_gain(examples, i, labels) for i in attributes]\n",
    "\n",
    "    # Find the index of the attribute with the highest information gain\n",
    "    best_attribute_index = np.argmax(information_gains)\n",
    "#     print(\"Information gains\",best_attribute_index, \"\\n\", information_gains)\n",
    "    return best_attribute_index\n",
    "\n",
    "def create_decision_tree(examples, attributes, labels):\n",
    "    # Create a new decision tree node\n",
    "    node = {}\n",
    "\n",
    "    # Check if all examples have the same label\n",
    "    if len(np.unique(labels)) == 1:\n",
    "        node['label'] = labels[0]\n",
    "        return node\n",
    "\n",
    "    # Check if there are no more attributes to split on\n",
    "    if len(attributes) == 0:\n",
    "        unique_labels, label_counts = np.unique(labels, return_counts=True)\n",
    "        node['label'] = unique_labels[np.argmax(label_counts)]\n",
    "        return node\n",
    "\n",
    "    # Choose the best attribute to split on\n",
    "    best_attribute_index = choose_best_attribute(examples, attributes, labels)\n",
    "    best_attribute = attributes[best_attribute_index]\n",
    "\n",
    "    # Set the best attribute as the splitting criterion for the current node\n",
    "    node['attribute'] = att_names[best_attribute]\n",
    "    node['children'] = {}\n",
    "\n",
    "    # Remove the best attribute from the list of attributes\n",
    "    attributes = np.delete(attributes, best_attribute_index)\n",
    "\n",
    "    # Create a child node for each possible value of the best attribute\n",
    "    attribute_values = np.unique(examples[:, best_attribute])\n",
    "    for value in attribute_values:\n",
    "        # Get the indices of examples with the current attribute value\n",
    "        indices = np.where(examples[:, best_attribute] == value)[0]\n",
    "\n",
    "        # Get the examples with the current attribute value\n",
    "        subset_examples = examples[indices]\n",
    "\n",
    "        # Get the labels of the examples with the current attribute value\n",
    "        subset_labels = labels[indices]\n",
    "\n",
    "        # Recursively create a subtree for the current child node\n",
    "        node['children'][value] = create_decision_tree(subset_examples, \n",
    "            attributes.copy(), subset_labels)\n",
    "        print(node)\n",
    "    return node"
   ]
  },
  {
   "attachments": {},
   "cell_type": "markdown",
   "metadata": {},
   "source": [
    "### Processing from csv file"
   ]
  },
  {
   "cell_type": "code",
   "execution_count": 2,
   "metadata": {},
   "outputs": [],
   "source": [
    "import pandas as pd"
   ]
  },
  {
   "cell_type": "code",
   "execution_count": 3,
   "metadata": {},
   "outputs": [],
   "source": [
    "data=pd.read_csv(\"ID3.csv\")"
   ]
  },
  {
   "cell_type": "code",
   "execution_count": 4,
   "metadata": {
    "scrolled": true
   },
   "outputs": [
    {
     "name": "stdout",
     "output_type": "stream",
     "text": [
      "     Outlook Temperature Humidity    Wind Target\n",
      "0      Sunny         Hot     High    Weak     No\n",
      "1      Sunny         Hot     High  Strong     No\n",
      "2   Overcast         Hot     High    Weak    Yes\n",
      "3      Rainy        Mild     High    Weak    Yes\n",
      "4      Rainy        Cool   Normal    Weak    Yes\n",
      "5      Rainy        Cool   Normal  Strong     No\n",
      "6   Overcast        Cool   Normal  Strong    Yes\n",
      "7      Sunny        Mild     High    Weak     No\n",
      "8      Sunny        Cool   Normal    Weak    Yes\n",
      "9      Rainy        Mild   Normal    Weak    Yes\n",
      "10     Sunny        Mild   Normal  Strong    Yes\n",
      "11  Overcast        Mild     High  Strong    Yes\n",
      "12  Overcast         Hot   Normal    Weak    Yes\n",
      "13     Rainy        Mild     High  Strong     No\n"
     ]
    }
   ],
   "source": [
    "print(data)"
   ]
  },
  {
   "cell_type": "code",
   "execution_count": 5,
   "metadata": {},
   "outputs": [
    {
     "data": {
      "text/plain": [
       "{0: 'Outlook', 1: 'Temperature', 2: 'Humidity', 3: 'Wind', 4: 'Target'}"
      ]
     },
     "execution_count": 5,
     "metadata": {},
     "output_type": "execute_result"
    }
   ],
   "source": [
    "att_names = {i:col_name for i,col_name in enumerate(data.columns)}\n",
    "att_names"
   ]
  },
  {
   "cell_type": "code",
   "execution_count": 6,
   "metadata": {},
   "outputs": [
    {
     "name": "stdout",
     "output_type": "stream",
     "text": [
      "{'attribute': 'Outlook', 'children': {'Overcast': {'label': 'Yes'}}}\n",
      "{'attribute': 'Wind', 'children': {'Strong': {'label': 'No'}}}\n",
      "{'attribute': 'Wind', 'children': {'Strong': {'label': 'No'}, 'Weak': {'label': 'Yes'}}}\n",
      "{'attribute': 'Outlook', 'children': {'Overcast': {'label': 'Yes'}, 'Rainy': {'attribute': 'Wind', 'children': {'Strong': {'label': 'No'}, 'Weak': {'label': 'Yes'}}}}}\n",
      "{'attribute': 'Humidity', 'children': {'High': {'label': 'No'}}}\n",
      "{'attribute': 'Humidity', 'children': {'High': {'label': 'No'}, 'Normal': {'label': 'Yes'}}}\n",
      "{'attribute': 'Outlook', 'children': {'Overcast': {'label': 'Yes'}, 'Rainy': {'attribute': 'Wind', 'children': {'Strong': {'label': 'No'}, 'Weak': {'label': 'Yes'}}}, 'Sunny': {'attribute': 'Humidity', 'children': {'High': {'label': 'No'}, 'Normal': {'label': 'Yes'}}}}}\n",
      "\n",
      "The Final Decision Tree is:\n",
      "\n",
      "{'attribute': 'Outlook', 'children': {'Overcast': {'label': 'Yes'}, 'Rainy': {'attribute': 'Wind', 'children': {'Strong': {'label': 'No'}, 'Weak': {'label': 'Yes'}}}, 'Sunny': {'attribute': 'Humidity', 'children': {'High': {'label': 'No'}, 'Normal': {'label': 'Yes'}}}}}\n"
     ]
    }
   ],
   "source": [
    "# Get the attributes (feature indices)\n",
    "attributes = np.arange(data.shape[1] - 1)\n",
    "\n",
    "# Get the labels\n",
    "labels = np.array(data[\"Target\"])\n",
    "\n",
    "# Create the decision tree\n",
    "decision_tree = create_decision_tree(np.array(data), attributes, labels)\n",
    "\n",
    "# Print the decision tree\n",
    "print(\"\\nThe Final Decision Tree is:\\n\")\n",
    "print(decision_tree)"
   ]
  },
  {
   "cell_type": "code",
   "execution_count": 7,
   "id": "ffa2a27e",
   "metadata": {},
   "outputs": [
    {
     "data": {
      "text/plain": [
       "{'Outlook': 0, 'Temperature': 1, 'Humidity': 2, 'Wind': 3, 'Target': 4}"
      ]
     },
     "execution_count": 7,
     "metadata": {},
     "output_type": "execute_result"
    }
   ],
   "source": [
    "att_index = {col_name:i for i,col_name in enumerate(data.columns)}\n",
    "att_index"
   ]
  },
  {
   "cell_type": "code",
   "execution_count": 8,
   "id": "0db7c984",
   "metadata": {},
   "outputs": [
    {
     "data": {
      "text/plain": [
       "{'attribute': 'Outlook',\n",
       " 'children': {'Overcast': {'label': 'Yes'},\n",
       "  'Rainy': {'attribute': 'Wind',\n",
       "   'children': {'Strong': {'label': 'No'}, 'Weak': {'label': 'Yes'}}},\n",
       "  'Sunny': {'attribute': 'Humidity',\n",
       "   'children': {'High': {'label': 'No'}, 'Normal': {'label': 'Yes'}}}}}"
      ]
     },
     "execution_count": 8,
     "metadata": {},
     "output_type": "execute_result"
    }
   ],
   "source": [
    "decision_tree"
   ]
  },
  {
   "cell_type": "code",
   "execution_count": 25,
   "id": "a3da79b0",
   "metadata": {},
   "outputs": [],
   "source": [
    "def predict(sample):\n",
    "    found=False\n",
    "    predicted_val=\"\"\n",
    "    dt=decision_tree.copy()\n",
    "    while not found:\n",
    "        node=sample[att_index[dt['attribute']]]\n",
    "        dt=dt['children'][node]\n",
    "        if list(dt.values())[0]==\"Yes\" or list(dt.values())[0]==\"No\":\n",
    "            found=True\n",
    "            predicted_val=list(dt.values())[0]\n",
    "    return predicted_val"
   ]
  },
  {
   "cell_type": "code",
   "execution_count": 35,
   "id": "26550c01",
   "metadata": {},
   "outputs": [
    {
     "data": {
      "text/plain": [
       "array([['Sunny', 'Hot', 'High', 'Weak', 'No'],\n",
       "       ['Sunny', 'Hot', 'High', 'Strong', 'No'],\n",
       "       ['Overcast', 'Hot', 'High', 'Weak', 'Yes'],\n",
       "       ['Rainy', 'Mild', 'High', 'Weak', 'Yes'],\n",
       "       ['Rainy', 'Cool', 'Normal', 'Weak', 'Yes'],\n",
       "       ['Rainy', 'Cool', 'Normal', 'Strong', 'No'],\n",
       "       ['Overcast', 'Cool', 'Normal', 'Strong', 'Yes'],\n",
       "       ['Sunny', 'Mild', 'High', 'Weak', 'No'],\n",
       "       ['Sunny', 'Cool', 'Normal', 'Weak', 'Yes'],\n",
       "       ['Rainy', 'Mild', 'Normal', 'Weak', 'Yes'],\n",
       "       ['Sunny', 'Mild', 'Normal', 'Strong', 'Yes'],\n",
       "       ['Overcast', 'Mild', 'High', 'Strong', 'Yes'],\n",
       "       ['Overcast', 'Hot', 'Normal', 'Weak', 'Yes'],\n",
       "       ['Rainy', 'Mild', 'High', 'Strong', 'No']], dtype=object)"
      ]
     },
     "execution_count": 35,
     "metadata": {},
     "output_type": "execute_result"
    }
   ],
   "source": [
    "data_arr=np.array(data)\n",
    "data_arr"
   ]
  },
  {
   "cell_type": "code",
   "execution_count": 40,
   "metadata": {},
   "outputs": [
    {
     "data": {
      "text/plain": [
       "['No',\n",
       " 'No',\n",
       " 'Yes',\n",
       " 'Yes',\n",
       " 'Yes',\n",
       " 'No',\n",
       " 'Yes',\n",
       " 'No',\n",
       " 'Yes',\n",
       " 'Yes',\n",
       " 'Yes',\n",
       " 'Yes',\n",
       " 'Yes',\n",
       " 'No']"
      ]
     },
     "execution_count": 40,
     "metadata": {},
     "output_type": "execute_result"
    }
   ],
   "source": [
    "ypred=[]\n",
    "for i in data_arr:\n",
    "    ypred.append(predict(i))\n",
    "ypred"
   ]
  },
  {
   "cell_type": "code",
   "execution_count": 41,
   "id": "46ba63ff",
   "metadata": {},
   "outputs": [
    {
     "data": {
      "text/plain": [
       "['No',\n",
       " 'No',\n",
       " 'Yes',\n",
       " 'Yes',\n",
       " 'Yes',\n",
       " 'No',\n",
       " 'Yes',\n",
       " 'No',\n",
       " 'Yes',\n",
       " 'Yes',\n",
       " 'Yes',\n",
       " 'Yes',\n",
       " 'Yes',\n",
       " 'No']"
      ]
     },
     "execution_count": 41,
     "metadata": {},
     "output_type": "execute_result"
    }
   ],
   "source": [
    "truth=list(data['Target'])\n",
    "truth"
   ]
  },
  {
   "cell_type": "code",
   "execution_count": 42,
   "id": "22234fd4",
   "metadata": {},
   "outputs": [
    {
     "data": {
      "text/plain": [
       "True"
      ]
     },
     "execution_count": 42,
     "metadata": {},
     "output_type": "execute_result"
    }
   ],
   "source": [
    "truth==ypred"
   ]
  },
  {
   "cell_type": "code",
   "execution_count": 43,
   "id": "309919a2",
   "metadata": {},
   "outputs": [
    {
     "data": {
      "text/plain": [
       "'Yes'"
      ]
     },
     "execution_count": 43,
     "metadata": {},
     "output_type": "execute_result"
    }
   ],
   "source": [
    "predict([\"Overcast\", \"Mild\", \"High\", \"Strong\"])"
   ]
  }
 ],
 "metadata": {
  "kernelspec": {
   "display_name": "Python 3",
   "language": "python",
   "name": "python3"
  },
  "language_info": {
   "codemirror_mode": {
    "name": "ipython",
    "version": 3
   },
   "file_extension": ".py",
   "mimetype": "text/x-python",
   "name": "python",
   "nbconvert_exporter": "python",
   "pygments_lexer": "ipython3",
   "version": "3.9.0"
  }
 },
 "nbformat": 4,
 "nbformat_minor": 5
}
